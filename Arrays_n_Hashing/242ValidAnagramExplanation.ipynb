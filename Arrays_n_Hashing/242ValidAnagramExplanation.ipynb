{
 "cells": [
  {
   "attachments": {},
   "cell_type": "markdown",
   "metadata": {},
   "source": [
    "# Intuition\n",
    "I knew I needed to iterate through the s and t strings, because without checking each of the items, we cannot figure out if original letters from first string used in the second string exactly once.\n",
    "\n",
    "# Approach\n",
    "First, I decided to check the edge case where both string's length is different.\n",
    "Second, I initialized an empty dictionary (word={}), I visited each of the letter in first string (s). I added each of the item to the dictionary as key, and their indexes as value {key(letter):value(index)}.\n",
    "Third, while checking every letter in the second string (t), I decreased the indexes of them by one.\n",
    "Lastly, I have checked if all of the values are 0, meaning if all of the items from s, are equal to the items of t.\n",
    "\n",
    "# Complexity\n",
    "Time complexity:\n",
    "Time complexity for this method is O(n)\n"
   ]
  },
  {
   "attachments": {},
   "cell_type": "markdown",
   "metadata": {},
   "source": [
    "```class Solution:\n",
    "    def isAnagram(self, s: str, t: str) -> bool:\n",
    "        if len(s) != len(t):\n",
    "            return False\n",
    "        word = {}\n",
    "        for letter in s:\n",
    "            if letter not in word:\n",
    "                word[letter] = 1\n",
    "            elif letter in word:\n",
    "                word[letter] += 1\n",
    "        for l in t:\n",
    "            if l in word.keys():\n",
    "                word[l] -= 1\n",
    "        for val in word.values():\n",
    "            if val != 0:\n",
    "                return False\n",
    "        return True```"
   ]
  }
 ],
 "metadata": {
  "language_info": {
   "name": "python"
  },
  "orig_nbformat": 4
 },
 "nbformat": 4,
 "nbformat_minor": 2
}
